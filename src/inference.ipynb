{
 "cells": [
  {
   "cell_type": "code",
   "execution_count": null,
   "metadata": {},
   "outputs": [],
   "source": [
    "import model_loader\n",
    "import pipeline\n",
    "from PIL import Image\n",
    "from transformers import CLIPTokenizer\n",
    "import torch\n",
    "\n",
    "DEVICE = \"cpu\"\n",
    "CUDA = False\n",
    "MPS = False\n",
    "\n",
    "if torch.cuda.is_available() and CUDA:\n",
    "    DEVICE = \"cuda\"\n",
    "elif (torch.has_mps or torch.backend.mps.is_available()) and MPS:\n",
    "    DEVICE = \"mps\"\n",
    "print(\"Device: \", DEVICE)\n",
    "\n",
    "tokenizer = CLIPTokenizer(\"../data/tokenizer_vocab.json\", merges_file=\"../data/tokenizer_merges.txt\")\n",
    "checkpoint = \"../data/v1-5-pruned-emaonly.ckpt\"\n",
    "models = model_loader.load_models_with_weights(checkpoint, DEVICE)\n"
   ]
  },
  {
   "cell_type": "code",
   "execution_count": null,
   "metadata": {},
   "outputs": [],
   "source": [
    "## TEXT TO IMAGE\n",
    "prompt = \"Mikael Akerfelt from Opeth running away from dogs into a forest\"\n",
    "uncond_prompt = \"\"\n",
    "do_cfg = True\n",
    "cfg_scale = 7  #1-14\n",
    "\n",
    "# IMAGE TO IMAGE\n",
    "input_image = None\n",
    "image_path = \"../images/\"\n",
    "# input_image = Image.open(image_path)\n",
    "strength = 0.9\n",
    "\n",
    "sampler = \"ddpm\"\n",
    "inf_steps = 50\n",
    "seed = 42\n",
    "\n",
    "output_img = pipeline.generate(\n",
    "    prompt=prompt,\n",
    "    neg_prompt=uncond_prompt,\n",
    "    input_img=input_image,\n",
    "    strength=strength,\n",
    "    do_cfg=do_cfg,\n",
    "    cfg_scale=cfg_scale,\\\n",
    "    sampler=sampler,\n",
    "    inf_steps=inf_steps,\n",
    "    models=models,\n",
    "    seed=seed,\n",
    "    device=DEVICE,\n",
    "    idle_device=\"cpu\",\n",
    "    tokenizer=tokenizer\n",
    ")\n",
    "\n",
    "Image.fromarray(output_img)\n"
   ]
  }
 ],
 "metadata": {
  "kernelspec": {
   "display_name": "base",
   "language": "python",
   "name": "python3"
  },
  "language_info": {
   "name": "python",
   "version": "3.10.8"
  }
 },
 "nbformat": 4,
 "nbformat_minor": 2
}
